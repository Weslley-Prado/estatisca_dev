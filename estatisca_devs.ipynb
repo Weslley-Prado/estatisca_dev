{
 "cells": [
  {
   "cell_type": "code",
   "execution_count": 1,
   "metadata": {},
   "outputs": [],
   "source": [
    "import pandas as pd"
   ]
  },
  {
   "cell_type": "code",
   "execution_count": 2,
   "metadata": {},
   "outputs": [
    {
     "data": {
      "text/plain": [
       "'2.2.2'"
      ]
     },
     "execution_count": 2,
     "metadata": {},
     "output_type": "execute_result"
    }
   ],
   "source": [
    "pd.__version__"
   ]
  },
  {
   "cell_type": "code",
   "execution_count": 1,
   "metadata": {},
   "outputs": [
    {
     "ename": "NameError",
     "evalue": "name 'pd' is not defined",
     "output_type": "error",
     "traceback": [
      "\u001b[0;31m---------------------------------------------------------------------------\u001b[0m",
      "\u001b[0;31mNameError\u001b[0m                                 Traceback (most recent call last)",
      "Cell \u001b[0;32mIn[1], line 12\u001b[0m\n\u001b[1;32m      1\u001b[0m \u001b[38;5;124;03m''' \u001b[39;00m\n\u001b[1;32m      2\u001b[0m \u001b[38;5;124;03mNo pandas podemos representar conjunto de dados de duas formas: conjusto em séries que são conjuntos de dados de uma mesma variável e\u001b[39;00m\n\u001b[1;32m      3\u001b[0m \u001b[38;5;124;03mconjuntos dataframe que são conjuntos de dados de variáveis diferentes.\u001b[39;00m\n\u001b[0;32m   (...)\u001b[0m\n\u001b[1;32m      6\u001b[0m \n\u001b[1;32m      7\u001b[0m \u001b[38;5;124;03m'''\u001b[39;00m\n\u001b[1;32m     10\u001b[0m dict_medidas \u001b[38;5;241m=\u001b[39m {\u001b[38;5;124m'\u001b[39m\u001b[38;5;124midade\u001b[39m\u001b[38;5;124m'\u001b[39m:[\u001b[38;5;241m15\u001b[39m,\u001b[38;5;241m18\u001b[39m,\u001b[38;5;241m25\u001b[39m,\u001b[38;5;241m25\u001b[39m,\u001b[38;5;241m40\u001b[39m,\u001b[38;5;241m55\u001b[39m,\u001b[38;5;241m58\u001b[39m,\u001b[38;5;241m60\u001b[39m,\u001b[38;5;241m80\u001b[39m], \u001b[38;5;124m'\u001b[39m\u001b[38;5;124maltura\u001b[39m\u001b[38;5;124m'\u001b[39m: [\u001b[38;5;241m160\u001b[39m,\u001b[38;5;241m162\u001b[39m,\u001b[38;5;241m165\u001b[39m,\u001b[38;5;241m168\u001b[39m,\u001b[38;5;241m172\u001b[39m,\u001b[38;5;241m174\u001b[39m,\u001b[38;5;241m174\u001b[39m,\u001b[38;5;241m174\u001b[39m,\u001b[38;5;241m176\u001b[39m]}\n\u001b[0;32m---> 12\u001b[0m df_medidas \u001b[38;5;241m=\u001b[39m \u001b[43mpd\u001b[49m\u001b[38;5;241m.\u001b[39mDataFrame\u001b[38;5;241m.\u001b[39mfrom_dict(dict_medidas)\n",
      "\u001b[0;31mNameError\u001b[0m: name 'pd' is not defined"
     ]
    }
   ],
   "source": [
    "''' \n",
    "No pandas podemos representar conjunto de dados de duas formas: conjusto em séries que são conjuntos de dados de uma mesma variável e\n",
    "conjuntos dataframe que são conjuntos de dados de variáveis diferentes.\n",
    "\n",
    "Abaixo, segue um exemplo iniciando pela definição de um dicionário e depois a transformação em data frame\n",
    "\n",
    "'''\n",
    "import pandas as pd\n",
    "\n",
    "dict_medidas = {'idade':[15,18,25,25,40,55,58,60,80], 'altura': [160,162,165,168,172,174,174,174,176]}\n",
    "\n",
    "df_medidas = pd.DataFrame.from_dict(dict_medidas)\n"
   ]
  },
  {
   "cell_type": "code",
   "execution_count": null,
   "metadata": {},
   "outputs": [],
   "source": []
  }
 ],
 "metadata": {
  "kernelspec": {
   "display_name": "estatisca_dev-Bw4RviAE",
   "language": "python",
   "name": "python3"
  },
  "language_info": {
   "codemirror_mode": {
    "name": "ipython",
    "version": 3
   },
   "file_extension": ".py",
   "mimetype": "text/x-python",
   "name": "python",
   "nbconvert_exporter": "python",
   "pygments_lexer": "ipython3",
   "version": "3.11.0"
  }
 },
 "nbformat": 4,
 "nbformat_minor": 2
}
